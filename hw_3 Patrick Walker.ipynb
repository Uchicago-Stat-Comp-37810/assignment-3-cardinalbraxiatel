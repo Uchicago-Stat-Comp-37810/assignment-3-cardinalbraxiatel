{
 "cells": [
  {
   "cell_type": "markdown",
   "metadata": {},
   "source": [
    "# Exercise 1"
   ]
  },
  {
   "cell_type": "code",
   "execution_count": 291,
   "metadata": {},
   "outputs": [
    {
     "name": "stdout",
     "output_type": "stream",
     "text": [
      "True\n",
      "False\n",
      "Dividing by zero is not permissible.\n"
     ]
    }
   ],
   "source": [
    "import math\n",
    "\n",
    "def is_divisible(m,n):\n",
    "    if (n == 0):\n",
    "        return \"Dividing by zero is not permissible.\"\n",
    "   \n",
    "    \n",
    "    zed = m%n\n",
    "    if( zed == 0):\n",
    "        T_F = True\n",
    "    else:\n",
    "            T_F = False\n",
    "    return T_F\n",
    "print(is_divisible(10, 5))  # This should return True\n",
    "print(is_divisible(18, 7)) # This should return False\n",
    "print(is_divisible(42, 0)) # I altered the code to prevent the error"
   ]
  },
  {
   "cell_type": "markdown",
   "metadata": {},
   "source": [
    "# Exercise 2"
   ]
  },
  {
   "cell_type": "code",
   "execution_count": 300,
   "metadata": {},
   "outputs": [
    {
     "name": "stdout",
     "output_type": "stream",
     "text": [
      "trial = [1,2]\n",
      "True\n",
      "trial = [2,1]\n",
      "True\n",
      "trial = [2,2]\n",
      "False\n",
      "trial = [0,0]\n",
      "False\n",
      "trial = [1,0]\n",
      "True\n",
      "trial = [a,aa]\n",
      "True\n",
      "trial = [a,1]\n",
      "types of object aren't comparable\n",
      "trial = [a,a]\n",
      "False\n",
      "trial = [0.777repeating,1]\n",
      "True\n",
      "trial = [0.999repeating,1]\n",
      "False\n"
     ]
    }
   ],
   "source": [
    "import math\n",
    "\n",
    "class compare:\n",
    "    def method( uno, dos):\n",
    "    \n",
    "        numerical = [float, int] #set of numerical classes for individual numbers, if I generalize this to vectors, will need to be expanded\n",
    "        if(type(uno) == type(dos)):\n",
    "               ok = True \n",
    "        else:\n",
    "            if((type(uno) in numerical) and (type(dos) in numerical)):\n",
    "                ok = True\n",
    "            else:\n",
    "                ok = False\n",
    "                return \"types of object aren't comparable\" #prevents string and int\\float errors\n",
    "            \n",
    "        if(ok == True):    \n",
    "            if (uno > dos):\n",
    "                    Unequal = True\n",
    "            else:\n",
    "                if (uno < dos):\n",
    "                    Unequal = True\n",
    "                else:\n",
    "                    Unequal = False\n",
    "        return Unequal #if the numbers are unequal, it returns true\n",
    "trial = [1,2]\n",
    "print(\"trial = [1,2]\")\n",
    "print(compare.method(trial[0],trial[1]))\n",
    "\n",
    "print(\"trial = [2,1]\")\n",
    "trial = [2,1]\n",
    "print(compare.method(trial[0],trial[1]))\n",
    "\n",
    "print(\"trial = [2,2]\")\n",
    "trial = [2,2]\n",
    "print(compare.method(trial[0],trial[1]))\n",
    "\n",
    "print(\"trial = [0,0]\")\n",
    "trial = [0,0]\n",
    "print(compare.method(trial[0],trial[1]))\n",
    "\n",
    "print(\"trial = [1,0]\")\n",
    "trial = [1,0]\n",
    "print(compare.method(trial[0],trial[1]))\n",
    "\n",
    "print(\"trial = [a,aa]\")\n",
    "trial = [\"a\",\"aa\"]\n",
    "print(compare.method(trial[0],trial[1]))\n",
    "\n",
    "print(\"trial = [a,1]\")\n",
    "trial = [\"a\",1]\n",
    "print(compare.method(trial[0],trial[1]))\n",
    "\n",
    "print(\"trial = [a,a]\")\n",
    "trial = [\"a\",\"a\"]\n",
    "print(compare.method(trial[0],trial[1]))\n",
    "\n",
    "print(\"trial = [0.777repeating,1]\")\n",
    "trial = [0.777777777777777777777777777777777777777777777777777777777777777777777777777777777777777777777777777777777,1]\n",
    "print(compare.method(trial[0],trial[1]))\n",
    "\n",
    "print(\"trial = [0.999repeating,1]\")\n",
    "trial = [0.999999999999999999999999999999999999999999999999999999999999999999999999999999999999999999999999999999999,1]\n",
    "print(compare.method(trial[0],trial[1]))\n",
    "\n",
    "##I included this last one since 0.999 repeating should be equal to 1; I'm not sure what the convention is here for programming\n",
    "##so I assume that python treats a string of 9s following the decimal point as 0.999 repeating\n"
   ]
  },
  {
   "cell_type": "markdown",
   "metadata": {},
   "source": [
    "# Exercise 3"
   ]
  },
  {
   "cell_type": "code",
   "execution_count": 301,
   "metadata": {},
   "outputs": [
    {
     "name": "stdout",
     "output_type": "stream",
     "text": [
      "sin(pi/4) + cos(pi/4)/2 is:\n",
      "1.0606601717798214\n",
      "ceiling(276/19) + 2 log_7(12) is:\n",
      "17.55397881653925\n"
     ]
    }
   ],
   "source": [
    "import math\n",
    "\n",
    "def multiadd(a,b,c):\n",
    "    ans = a*b + c\n",
    "    return ans\n",
    "\n",
    "angle_test = multiadd((1/2), math.cos(math.pi/4), math.sin(math.pi/4))\n",
    "print(\"sin(pi/4) + cos(pi/4)/2 is:\")\n",
    "print(angle_test)\n",
    "\n",
    "ceiling_test = multiadd(2,math.log(12,7),math.ceil(276/19))\n",
    "print(\"ceiling(276/19) + 2 log_7(12) is:\")\n",
    "print(ceiling_test)\n",
    "\n"
   ]
  },
  {
   "cell_type": "markdown",
   "metadata": {},
   "source": [
    "# Exercise 4"
   ]
  },
  {
   "cell_type": "code",
   "execution_count": 299,
   "metadata": {},
   "outputs": [
    {
     "name": "stdout",
     "output_type": "stream",
     "text": [
      "96\n",
      "True\n",
      "48\n",
      "True\n",
      "44\n",
      "False\n",
      "83\n",
      "False\n",
      "1\n",
      "False\n",
      "64\n",
      "False\n",
      "2\n",
      "False\n",
      "11\n",
      "False\n",
      "87\n",
      "True\n",
      "6\n",
      "True\n",
      "87\n",
      "True\n",
      "95\n",
      "False\n",
      "0\n",
      "True\n",
      "78\n",
      "True\n",
      "39\n",
      "True\n",
      "32\n",
      "False\n",
      "74\n",
      "False\n",
      "3\n",
      "True\n",
      "43\n",
      "False\n",
      "46\n",
      "False\n",
      "87\n",
      "True\n",
      "73\n",
      "False\n",
      "12\n",
      "True\n",
      "84\n",
      "True\n"
     ]
    }
   ],
   "source": [
    "import random\n",
    "def rand_divis_3():\n",
    "\n",
    "    rnd = random.randint(0,100)\n",
    "    print(rnd)\n",
    "    if(rnd%3 == 0):\n",
    "        return True\n",
    "    else:\n",
    "        return False\n",
    "\n",
    "print(rand_divis_3())\n",
    "print(rand_divis_3())\n",
    "print(rand_divis_3())\n",
    "print(rand_divis_3())\n",
    "\n",
    "print(rand_divis_3())\n",
    "print(rand_divis_3())\n",
    "print(rand_divis_3())\n",
    "print(rand_divis_3())\n",
    "\n",
    "print(rand_divis_3())\n",
    "print(rand_divis_3())\n",
    "print(rand_divis_3())\n",
    "print(rand_divis_3())\n",
    "\n",
    "print(rand_divis_3())\n",
    "print(rand_divis_3())\n",
    "print(rand_divis_3())\n",
    "print(rand_divis_3())\n",
    "\n",
    "print(rand_divis_3())\n",
    "print(rand_divis_3())\n",
    "print(rand_divis_3())\n",
    "print(rand_divis_3())\n",
    "\n",
    "print(rand_divis_3())\n",
    "print(rand_divis_3())\n",
    "print(rand_divis_3())\n",
    "print(rand_divis_3())"
   ]
  }
 ],
 "metadata": {
  "kernelspec": {
   "display_name": "Python 3",
   "language": "python",
   "name": "python3"
  },
  "language_info": {
   "codemirror_mode": {
    "name": "ipython",
    "version": 3
   },
   "file_extension": ".py",
   "mimetype": "text/x-python",
   "name": "python",
   "nbconvert_exporter": "python",
   "pygments_lexer": "ipython3",
   "version": "3.7.0"
  }
 },
 "nbformat": 4,
 "nbformat_minor": 2
}
